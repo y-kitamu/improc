{
 "cells": [
  {
   "cell_type": "code",
   "execution_count": null,
   "id": "94cfb883-2d65-4add-8711-31965dad7edf",
   "metadata": {},
   "outputs": [],
   "source": [
    ":dep image = { version = \"0.23.14\" }\n",
    ":dep evcxr_image = { version = \"1.1.0\" }"
   ]
  },
  {
   "cell_type": "code",
   "execution_count": null,
   "id": "a3af6a88-ebfe-445b-b719-0446ff18c1bd",
   "metadata": {},
   "outputs": [],
   "source": [
    "println!(\"hello jupyter notebook!\")"
   ]
  },
  {
   "cell_type": "code",
   "execution_count": null,
   "id": "daccc44e-56e9-4ab0-9112-ff53749a8a0a",
   "metadata": {},
   "outputs": [],
   "source": [
    "use image::io::Reader as ImageReader;\n",
    "use image::{ImageBuffer, DynamicImage, GenericImageView};\n",
    "\n",
    "let image_filename = \"../data/sample_image/IMG_20210722_170349.jpg\";\n",
    "let image = ImageReader::open(image_filename)?.decode()?.to_rgb8();"
   ]
  },
  {
   "cell_type": "code",
   "execution_count": null,
   "id": "b55c7f64-411b-4df3-b84e-c1de2f74e127",
   "metadata": {},
   "outputs": [],
   "source": [
    "match image {\n",
    "    DynamicImage::ImageRgb8(_) => println!(\"rgb8\"),\n",
    "    _ => println!(\"Other\")\n",
    "}"
   ]
  },
  {
   "cell_type": "code",
   "execution_count": null,
   "id": "c2167cf8-2f2b-4378-867c-5373ba242174",
   "metadata": {},
   "outputs": [],
   "source": [
    ":dep image = \"0.23\"\n",
    ":dep evcxr_image = \"1.1\"\n",
    "use evcxr_image::ImageDisplay;\n",
    "\n",
    "let img0 = image::ImageBuffer::from_fn(256, 256, |x, y| {\n",
    "    if (x as i32 - y as i32).abs() < 3 {\n",
    "        image::Rgb([0, 0, 255])\n",
    "    } else {\n",
    "        image::Rgb([0, 0, 0])\n",
    "    }\n",
    "});"
   ]
  },
  {
   "cell_type": "code",
   "execution_count": null,
   "id": "bfef59dd-eeb6-4b96-8340-b4f4ebce7d55",
   "metadata": {},
   "outputs": [],
   "source": [
    "println!(\"{}, {}\", image.height(), image.width())"
   ]
  },
  {
   "cell_type": "code",
   "execution_count": null,
   "id": "293c4387-1cea-406c-b039-9a20f35e11c4",
   "metadata": {},
   "outputs": [],
   "source": [
    "fn sample() {\n",
    "    let image_filename = \"../data/sample_image/IMG_20210722_170349.jpg\";\n",
    "    let image = ImageReader::open(image_filename)\n",
    "    .unwrap().decode().unwrap().to_rgb8();\n",
    "    let raw = image.as_raw();\n",
    "    \n",
    "    println!(\"{}\", raw.len())\n",
    "}\n"
   ]
  },
  {
   "cell_type": "code",
   "execution_count": null,
   "id": "8b85fe8c-5b0b-4f41-bce8-a821ea578e2c",
   "metadata": {},
   "outputs": [],
   "source": []
  }
 ],
 "metadata": {
  "language_info": {
   "name": "python",
   "pygments_lexer": "ipython3"
  }
 },
 "nbformat": 4,
 "nbformat_minor": 5
}
