{
 "cells": [
  {
   "cell_type": "code",
   "execution_count": 2,
   "id": "94cfb883-2d65-4add-8711-31965dad7edf",
   "metadata": {},
   "outputs": [],
   "source": [
    ":dep image = { version = \"0.23.14\" }\n",
    ":dep evcxr_image = { version = \"1.1.0\" }"
   ]
  },
  {
   "cell_type": "code",
   "execution_count": null,
   "id": "daccc44e-56e9-4ab0-9112-ff53749a8a0a",
   "metadata": {},
   "outputs": [],
   "source": [
    "use image::io::Reader as ImageReader;\n",
    "use evcxr_image::ImageDisplay;\n",
    "\n",
    "let image_filename = \"../data/sample_image/IMG_20210722_170349.jpg\";\n",
    "let image = ImageReader::open(image_filename)?.decode()?;\n",
    "image"
   ]
  },
  {
   "cell_type": "code",
   "execution_count": 2,
   "id": "c2167cf8-2f2b-4378-867c-5373ba242174",
   "metadata": {},
   "outputs": [
    {
     "data": {
      "image/png": "[encoded data removed]"
     },
     "execution_count": 2,
     "metadata": {},
     "output_type": "execute_result"
    }
   ],
   "source": [
    ":dep image = \"0.23\"\n",
    ":dep evcxr_image = \"1.1\"\n",
    "use evcxr_image::ImageDisplay;\n",
    "\n",
    "image::ImageBuffer::from_fn(256, 256, |x, y| {\n",
    "    if (x as i32 - y as i32).abs() < 3 {\n",
    "        image::Rgb([0, 0, 255])\n",
    "    } else {\n",
    "        image::Rgb([0, 0, 0])\n",
    "    }\n",
    "})"
   ]
  },
  {
   "cell_type": "code",
   "execution_count": null,
   "id": "bfef59dd-eeb6-4b96-8340-b4f4ebce7d55",
   "metadata": {},
   "outputs": [],
   "source": []
  }
 ],
 "metadata": {
  "kernelspec": {
   "display_name": "Rust",
   "language": "rust",
   "name": "rust"
  },
  "language_info": {
   "codemirror_mode": "rust",
   "file_extension": ".rs",
   "mimetype": "text/rust",
   "name": "Rust",
   "pygment_lexer": "rust",
   "version": ""
  }
 },
 "nbformat": 4,
 "nbformat_minor": 5
}
